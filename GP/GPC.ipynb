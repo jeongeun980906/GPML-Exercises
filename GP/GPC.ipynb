{
 "cells": [
  {
   "cell_type": "markdown",
   "id": "6dfe9b24",
   "metadata": {},
   "source": [
    "# 1-D Toy Problem"
   ]
  },
  {
   "cell_type": "code",
   "execution_count": 1,
   "id": "480b8e6a",
   "metadata": {},
   "outputs": [],
   "source": [
    "import numpy as np\n",
    "import matplotlib.pyplot as plt\n",
    "import math"
   ]
  },
  {
   "cell_type": "code",
   "execution_count": 2,
   "id": "1aeae287",
   "metadata": {},
   "outputs": [
    {
     "data": {
      "image/png": "[encoded data removed]",
      "text/plain": [
       "<Figure size 432x288 with 1 Axes>"
      ]
     },
     "metadata": {
      "needs_background": "light"
     },
     "output_type": "display_data"
    }
   ],
   "source": [
    "x_0 = np.random.rand(20,1)*2\n",
    "x_1_1 = np.random.rand(10,1)*2+2\n",
    "x_1_2 = np.random.rand(10,1)*2-8\n",
    "x_1 = np.concatenate((x_1_1,x_1_2))\n",
    "\n",
    "data = np.concatenate((x_0,x_1))\n",
    "target = np.concatenate((np.zeros((20,1))-1,np.ones((20,1))))\n",
    "\n",
    "plt.plot(x_0,[0]*x_0.shape[0],'o')\n",
    "plt.plot(x_1,[1]*x_1.shape[0],'x')\n",
    "plt.show()"
   ]
  },
  {
   "cell_type": "code",
   "execution_count": 3,
   "id": "b3764c90",
   "metadata": {},
   "outputs": [],
   "source": [
    "def covariance_function(x1,x2,length,signal_var,noise_var):\n",
    "    size1 = x1.shape[0]\n",
    "    size2 = x2.shape[0]\n",
    "    out = np.zeros((size1,size2))\n",
    "    for i in range(size1):\n",
    "        for j in range(size2): \n",
    "            xp = x1[i]\n",
    "            xq = x2[j]\n",
    "            out[i,j] =signal_var * math.exp(-1/2*(abs(xp-xq)**2)/length)+noise_var*(i==j)\n",
    "    return out"
   ]
  },
  {
   "cell_type": "markdown",
   "id": "b27dde6e",
   "metadata": {},
   "source": [
    "## Laplace Approximation"
   ]
  },
  {
   "cell_type": "code",
   "execution_count": 4,
   "id": "284e211e",
   "metadata": {},
   "outputs": [],
   "source": [
    "def logit_function(x):\n",
    "    return 1/(1+np.exp(-x))"
   ]
  },
  {
   "cell_type": "code",
   "execution_count": 5,
   "id": "6dad2bf0",
   "metadata": {},
   "outputs": [],
   "source": [
    "f = np.zeros_like(target)\n",
    "K = covariance_function(data,data,1,1,0.1)\n",
    "K_inv = np.linalg.inv(K)"
   ]
  },
  {
   "cell_type": "code",
   "execution_count": 6,
   "id": "9fee033e",
   "metadata": {},
   "outputs": [
    {
     "name": "stdout",
     "output_type": "stream",
     "text": [
      "50.469132438947845\n",
      "7.443704132508224\n",
      "0.4189613673601349\n",
      "0.0017005424483756137\n",
      "3.420739926041083e-08\n"
     ]
    }
   ],
   "source": [
    "error = 100\n",
    "while error>1e-6:\n",
    "    pi = logit_function(f)\n",
    "    W = np.zeros((f.shape[0],f.shape[0]))\n",
    "    temp = (pi*(1-pi)).reshape(-1).tolist()\n",
    "    np.fill_diagonal(W,temp)\n",
    "    dp = (target+1)/2 - pi\n",
    "    cov = np.linalg.inv(K_inv+W)\n",
    "    f_new = np.matmul(cov,np.matmul(W,f)+dp)\n",
    "    error = np.sum(np.abs(f_new-f))\n",
    "    print(error)\n",
    "    f = f_new\n",
    "f_hat = f"
   ]
  },
  {
   "cell_type": "code",
   "execution_count": 7,
   "id": "a886dafe",
   "metadata": {},
   "outputs": [],
   "source": [
    "x_star = np.linspace(-9,5,200)\n",
    "k_star = covariance_function(data,x_star,1,1,0.1)\n",
    "predicted_mean = np.matmul(np.matmul(k_star.T,K_inv),f_hat)\n",
    "predicted_var = covariance_function(x_star,x_star,1,1,0.1) - np.matmul(np.matmul(k_star.T,cov),k_star)"
   ]
  },
  {
   "cell_type": "code",
   "execution_count": 8,
   "id": "a9dd3055",
   "metadata": {},
   "outputs": [
    {
     "data": {
      "image/png": "[encoded data removed]",
      "text/plain": [
       "<Figure size 432x288 with 1 Axes>"
      ]
     },
     "metadata": {
      "needs_background": "light"
     },
     "output_type": "display_data"
    }
   ],
   "source": [
    "logit_predicted_mean = logit_function(predicted_mean).reshape(-1)\n",
    "a = predicted_var.diagonal()\n",
    "a = logit_function(a)\n",
    "a = np.sqrt(a)\n",
    "plt.figure()\n",
    "plt.plot(x_0,[0]*x_0.shape[0],'o')\n",
    "plt.plot(x_1,[1]*x_1.shape[0],'x')\n",
    "plt.plot(x_star.reshape(-1),logit_predicted_mean,color='k')\n",
    "#plt.fill_between(x_star.reshape(-1), (logit_predicted_mean-a),(logit_predicted_mean+a),alpha=0.2,color='r')\n",
    "plt.show()"
   ]
  },
  {
   "cell_type": "markdown",
   "id": "258f812c",
   "metadata": {},
   "source": [
    "### Expectation Propagation"
   ]
  },
  {
   "cell_type": "code",
   "execution_count": 9,
   "id": "dbe55cae",
   "metadata": {},
   "outputs": [],
   "source": [
    "import scipy.stats\n",
    "NormalDistribution=scipy.stats.norm(0, 1)"
   ]
  },
  {
   "cell_type": "code",
   "execution_count": 10,
   "id": "d40c8dc3",
   "metadata": {},
   "outputs": [
    {
     "name": "stdout",
     "output_type": "stream",
     "text": [
      "6347.168744465839\n",
      "0.0\n"
     ]
    },
    {
     "data": {
      "text/plain": [
       "array([[ 2.55618115e-01],\n",
       "       [ 1.70201068e-01],\n",
       "       [ 1.34867758e-01],\n",
       "       [ 1.18733815e-01],\n",
       "       [ 2.91144012e-01],\n",
       "       [ 1.77171137e-01],\n",
       "       [ 2.01055669e-01],\n",
       "       [ 2.55124674e-01],\n",
       "       [ 6.08117761e-01],\n",
       "       [ 6.22698998e-01],\n",
       "       [ 2.98399981e-01],\n",
       "       [ 1.15389517e-01],\n",
       "       [ 1.20284311e-01],\n",
       "       [ 1.61070287e-01],\n",
       "       [ 1.28512370e-01],\n",
       "       [ 1.48166758e-01],\n",
       "       [ 2.25573065e-01],\n",
       "       [ 1.59567743e-01],\n",
       "       [ 2.98710960e-01],\n",
       "       [ 1.28840482e-01],\n",
       "       [-9.26740245e-02],\n",
       "       [-1.88419357e-01],\n",
       "       [-1.64657134e-01],\n",
       "       [ 1.49405214e+00],\n",
       "       [ 5.29357660e-01],\n",
       "       [-4.53550850e-01],\n",
       "       [-5.11809313e-01],\n",
       "       [-8.00201990e-02],\n",
       "       [ 5.37734649e-01],\n",
       "       [ 5.54282083e-04],\n",
       "       [-6.88152732e-01],\n",
       "       [-7.70798152e-01],\n",
       "       [-6.81331707e-01],\n",
       "       [-7.48246701e-01],\n",
       "       [-6.99819535e-01],\n",
       "       [-8.99063042e-01],\n",
       "       [-7.87098204e-01],\n",
       "       [-7.55350852e-01],\n",
       "       [-7.44971610e-01],\n",
       "       [-8.55294915e-01]])"
      ]
     },
     "execution_count": 10,
     "metadata": {},
     "output_type": "execute_result"
    }
   ],
   "source": [
    "error = 100\n",
    "mu = np.zeros((data.shape[0],1))\n",
    "sigma = K.diagonal()\n",
    "\n",
    "mu_tilda = np.zeros((data.shape[0],1))\n",
    "sigma_tilda = np.ones(data.shape[0])\n",
    "\n",
    "mu_tilda_new = np.zeros((data.shape[0],1))\n",
    "sigma_tilda_new = np.ones(data.shape[0])\n",
    "\n",
    "sigma_minus = np.zeros(data.shape[0])\n",
    "mu_minus = np.zeros(data.shape[0])\n",
    "\n",
    "sigma_hat = np.zeros(data.shape[0])\n",
    "mu_hat = np.zeros(data.shape[0])\n",
    "while error>1e-6:\n",
    "    for i in range(0,data.shape[0]):\n",
    "        sigma_minus[i] = 1/(sigma[i]**(-2) - sigma_tilda[i]**(-2))\n",
    "        mu_minus[i] = sigma_minus[i]*(sigma[i]**(-2)*mu[i]-sigma_tilda[i]**(-2)*mu_tilda[i])\n",
    "        z = (target[i]*mu_minus[i])/math.sqrt(1+sigma_minus[i]**2)\n",
    "        mu_hat[i] = mu_minus[i] + (NormalDistribution.pdf(z)*target[i]*sigma_minus[i]**2) \\\n",
    "                                    /(NormalDistribution.cdf(z)*math.sqrt(1+sigma_minus[i]**2))\n",
    "        sigma_hat[i] = sigma_minus[i]**(-2) - sigma_minus[i]**(4)*NormalDistribution.pdf(z)/ \\\n",
    "                            ((1+sigma_minus[i]**(2))+NormalDistribution.cdf(z))* \\\n",
    "                             (z+NormalDistribution.pdf(z)/NormalDistribution.cdf(z))\n",
    "        sigma_tilda_new[i] = 1/(sigma_hat[i]**(-2)-sigma_minus[i]**(-2))\n",
    "        mu_tilda_new[i] = sigma_tilda_new[i]**(2)*(sigma_hat[i]**(-2)*mu_hat[i] - sigma_minus[i]**(-2)*mu_minus[i])\n",
    "    error = np.sum(np.abs(sigma_tilda_new-sigma_tilda))+ np.sum(np.abs(mu_tilda_new-mu_tilda))\n",
    "    sigma_tilda = sigma_tilda_new\n",
    "    mu_tilda = mu_tilda_new\n",
    "    temp = np.zeros((data.shape[0],data.shape[0]))\n",
    "    np.fill_diagonal(temp,sigma_tilda.tolist())\n",
    "    sigma = np.linalg.inv(K_inv + np.linalg.inv(temp))\n",
    "    mu = np.matmul(np.matmul(sigma,np.linalg.inv(temp)),mu_tilda)\n",
    "    sigma= sigma.diagonal()\n",
    "    print(error)"
   ]
  },
  {
   "cell_type": "code",
   "execution_count": 20,
   "id": "72c16a14",
   "metadata": {},
   "outputs": [],
   "source": [
    "Sigma_tilda = np.zeros((data.shape[0],data.shape[0]))\n",
    "np.fill_diagonal(Sigma_tilda,sigma_tilda.tolist())\n",
    "predicted_mean = np.matmul(np.matmul(k_star.T,np.linalg.inv(K+Sigma_tilda)),mu_tilda)\n",
    "predicted_var = covariance_function(x_star,x_star,1,1,0.1) - np.matmul(np.matmul(k_star.T,\\\n",
    "                                                            np.linalg.inv(K+Sigma_tilda)),k_star)\n",
    "a = predicted_mean / np.sqrt(1+predicted_var)\n",
    "pi_star = NormalDistribution.cdf(predicted_mean)#.diagonal()"
   ]
  },
  {
   "cell_type": "code",
   "execution_count": 21,
   "id": "77d4f258",
   "metadata": {},
   "outputs": [
    {
     "data": {
      "text/plain": [
       "array([[-2.99009737e-01],\n",
       "       [-2.80197737e-01],\n",
       "       [-3.56076336e-01],\n",
       "       [-4.41101233e-01],\n",
       "       [-4.11954738e-01],\n",
       "       [-3.98438573e-01],\n",
       "       [-4.45267447e-01],\n",
       "       [-4.94952890e-01],\n",
       "       [-4.41396006e-01],\n",
       "       [-4.63717550e-01],\n",
       "       [-5.79728171e-01],\n",
       "       [-6.70532489e-01],\n",
       "       [-6.82418737e-01],\n",
       "       [-5.96337413e-01],\n",
       "       [-6.98870503e-01],\n",
       "       [-6.39078259e-01],\n",
       "       [-6.95307055e-01],\n",
       "       [-6.65978533e-01],\n",
       "       [-7.34005044e-01],\n",
       "       [-7.70923332e-01],\n",
       "       [-7.66719460e-01],\n",
       "       [-7.50828966e-01],\n",
       "       [-7.60727874e-01],\n",
       "       [-5.98522838e-01],\n",
       "       [-5.62418508e-01],\n",
       "       [-7.63220133e-01],\n",
       "       [-7.71176781e-01],\n",
       "       [-7.90159756e-01],\n",
       "       [-5.56177074e-01],\n",
       "       [-8.54109281e-01],\n",
       "       [-7.24519023e-01],\n",
       "       [-7.50209601e-01],\n",
       "       [-7.13163401e-01],\n",
       "       [-7.48954077e-01],\n",
       "       [-7.19315918e-01],\n",
       "       [-7.84878820e-01],\n",
       "       [-7.38231593e-01],\n",
       "       [-7.34886496e-01],\n",
       "       [-7.09791635e-01],\n",
       "       [-7.65256484e-01],\n",
       "       [-6.96994710e-01],\n",
       "       [-6.87967957e-01],\n",
       "       [-6.77657016e-01],\n",
       "       [-6.65953313e-01],\n",
       "       [-6.52771072e-01],\n",
       "       [-6.38052063e-01],\n",
       "       [-6.21769195e-01],\n",
       "       [-6.03928849e-01],\n",
       "       [-5.84571876e-01],\n",
       "       [-5.63773276e-01],\n",
       "       [-5.41640621e-01],\n",
       "       [-5.18311324e-01],\n",
       "       [-4.93948928e-01],\n",
       "       [-4.68738594e-01],\n",
       "       [-4.42882002e-01],\n",
       "       [-4.16591899e-01],\n",
       "       [-3.90086506e-01],\n",
       "       [-3.63584012e-01],\n",
       "       [-3.37297344e-01],\n",
       "       [-3.11429376e-01],\n",
       "       [-2.86168735e-01],\n",
       "       [-2.61686284e-01],\n",
       "       [-2.38132362e-01],\n",
       "       [-2.15634807e-01],\n",
       "       [-1.94297757e-01],\n",
       "       [-1.74201194e-01],\n",
       "       [-1.55401180e-01],\n",
       "       [-1.37930685e-01],\n",
       "       [-1.21800935e-01],\n",
       "       [-1.07003155e-01],\n",
       "       [-9.35106125e-02],\n",
       "       [-8.12808467e-02],\n",
       "       [-7.02579829e-02],\n",
       "       [-6.03750414e-02],\n",
       "       [-5.15561565e-02],\n",
       "       [-4.37186386e-02],\n",
       "       [-3.67748255e-02],\n",
       "       [-3.06336837e-02],\n",
       "       [-2.52021352e-02],\n",
       "       [-2.03860980e-02],\n",
       "       [-1.60912440e-02],\n",
       "       [-1.22234860e-02],\n",
       "       [-8.68921757e-03],\n",
       "       [-5.39533762e-03],\n",
       "       [-2.24909922e-03],\n",
       "       [ 8.42173591e-04],\n",
       "       [ 3.97145133e-03],\n",
       "       [ 7.23239483e-03],\n",
       "       [ 1.07197273e-02],\n",
       "       [ 1.45295280e-02],\n",
       "       [ 1.87593932e-02],\n",
       "       [ 2.35084132e-02],\n",
       "       [ 2.88769165e-02],\n",
       "       [ 3.49659384e-02],\n",
       "       [ 4.18763773e-02],\n",
       "       [ 4.97078128e-02],\n",
       "       [ 5.85569680e-02],\n",
       "       [ 6.85158124e-02],\n",
       "       [ 7.96693167e-02],\n",
       "       [ 9.20928867e-02],\n",
       "       [ 1.05849519e-01],\n",
       "       [ 1.20986741e-01],\n",
       "       [ 1.37533414e-01],\n",
       "       [ 1.55496497e-01],\n",
       "       [ 1.74857881e-01],\n",
       "       [ 1.95571419e-01],\n",
       "       [ 2.17560282e-01],\n",
       "       [ 2.40714785e-01],\n",
       "       [ 2.64890813e-01],\n",
       "       [ 2.89908983e-01],\n",
       "       [ 3.15554662e-01],\n",
       "       [ 3.41578942e-01],\n",
       "       [ 3.67700645e-01],\n",
       "       [ 3.93609420e-01],\n",
       "       [ 4.18969935e-01],\n",
       "       [ 4.43427155e-01],\n",
       "       [ 4.66612634e-01],\n",
       "       [ 4.88151741e-01],\n",
       "       [ 5.07671671e-01],\n",
       "       [ 5.24810083e-01],\n",
       "       [ 5.39224143e-01],\n",
       "       [ 5.50599776e-01],\n",
       "       [ 5.58660851e-01],\n",
       "       [ 5.63178049e-01],\n",
       "       [ 5.63977155e-01],\n",
       "       [ 5.60946495e-01],\n",
       "       [ 5.54043273e-01],\n",
       "       [ 5.43298555e-01],\n",
       "       [ 5.28820697e-01],\n",
       "       [ 5.10797013e-01],\n",
       "       [ 4.89493528e-01],\n",
       "       [ 4.65252704e-01],\n",
       "       [ 4.38489060e-01],\n",
       "       [ 4.09682660e-01],\n",
       "       [ 3.79370498e-01],\n",
       "       [ 3.48135862e-01],\n",
       "       [ 3.16595820e-01],\n",
       "       [ 2.85387039e-01],\n",
       "       [ 2.55150209e-01],\n",
       "       [ 2.26513403e-01],\n",
       "       [ 2.00074785e-01],\n",
       "       [ 1.76385118e-01],\n",
       "       [ 1.55930579e-01],\n",
       "       [ 1.39116441e-01],\n",
       "       [ 1.26252183e-01],\n",
       "       [ 1.17538613e-01],\n",
       "       [ 1.13057564e-01],\n",
       "       [ 1.12764675e-01],\n",
       "       [ 1.16485722e-01],\n",
       "       [ 1.23916838e-01],\n",
       "       [ 1.34628878e-01],\n",
       "       [ 1.48076017e-01],\n",
       "       [ 1.63608516e-01],\n",
       "       [ 1.80489448e-01],\n",
       "       [ 1.97914959e-01],\n",
       "       [ 2.15037518e-01],\n",
       "       [ 2.30991432e-01],\n",
       "       [ 2.44919780e-01],\n",
       "       [ 2.56001835e-01],\n",
       "       [ 2.63479964e-01],\n",
       "       [ 2.66684995e-01],\n",
       "       [ 2.65059082e-01],\n",
       "       [ 2.58175141e-01],\n",
       "       [ 2.45752103e-01],\n",
       "       [ 2.27665329e-01],\n",
       "       [ 2.03951795e-01],\n",
       "       [ 1.74809794e-01],\n",
       "       [ 1.40593199e-01],\n",
       "       [ 1.01800506e-01],\n",
       "       [ 5.90591011e-02],\n",
       "       [ 1.31054270e-02],\n",
       "       [-3.52381833e-02],\n",
       "       [-8.50890536e-02],\n",
       "       [-1.35531100e-01],\n",
       "       [-1.85642121e-01],\n",
       "       [-2.34520431e-01],\n",
       "       [-2.81309886e-01],\n",
       "       [-3.25222452e-01],\n",
       "       [-3.65557619e-01],\n",
       "       [-4.01718102e-01],\n",
       "       [-4.33221469e-01],\n",
       "       [-4.59707513e-01],\n",
       "       [-4.80941358e-01],\n",
       "       [-4.96812469e-01],\n",
       "       [-5.07329893e-01],\n",
       "       [-5.12614154e-01],\n",
       "       [-5.12886356e-01],\n",
       "       [-5.08455094e-01],\n",
       "       [-4.99701801e-01],\n",
       "       [-4.87065186e-01],\n",
       "       [-4.71025367e-01],\n",
       "       [-4.52088268e-01],\n",
       "       [-4.30770788e-01],\n",
       "       [-4.07587146e-01],\n",
       "       [-3.83036739e-01],\n",
       "       [-3.57593754e-01],\n",
       "       [-3.31698659e-01],\n",
       "       [-3.05751641e-01],\n",
       "       [-2.80107967e-01],\n",
       "       [-2.55075171e-01]])"
      ]
     },
     "execution_count": 21,
     "metadata": {},
     "output_type": "execute_result"
    }
   ],
   "source": [
    "predicted_mean"
   ]
  },
  {
   "cell_type": "code",
   "execution_count": 22,
   "id": "1a57b674",
   "metadata": {},
   "outputs": [
    {
     "data": {
      "image/png": "[encoded data removed]",
      "text/plain": [
       "<Figure size 432x288 with 1 Axes>"
      ]
     },
     "metadata": {
      "needs_background": "light"
     },
     "output_type": "display_data"
    }
   ],
   "source": [
    "plt.figure()\n",
    "plt.plot(x_0,[0]*x_0.shape[0],'o')\n",
    "plt.plot(x_1,[1]*x_1.shape[0],'x')\n",
    "plt.plot(x_star.reshape(-1),pi_star,color='k')\n",
    "#plt.fill_between(x_star.reshape(-1), (logit_predicted_mean-a),(logit_predicted_mean+a),alpha=0.2,color='r')\n",
    "plt.show()"
   ]
  },
  {
   "cell_type": "code",
   "execution_count": null,
   "id": "a270da82",
   "metadata": {},
   "outputs": [],
   "source": []
  }
 ],
 "metadata": {
  "kernelspec": {
   "display_name": "Python 3 (ipykernel)",
   "language": "python",
   "name": "python3"
  },
  "language_info": {
   "codemirror_mode": {
    "name": "ipython",
    "version": 3
   },
   "file_extension": ".py",
   "mimetype": "text/x-python",
   "name": "python",
   "nbconvert_exporter": "python",
   "pygments_lexer": "ipython3",
   "version": "3.8.8"
  }
 },
 "nbformat": 4,
 "nbformat_minor": 5
}
