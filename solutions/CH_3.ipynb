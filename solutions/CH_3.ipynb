{
 "cells": [
  {
   "cell_type": "markdown",
   "id": "bf3a3eb3",
   "metadata": {},
   "source": [
    "## 1. Binary GPC - gaussian noise"
   ]
  },
  {
   "cell_type": "markdown",
   "id": "9cf7111f",
   "metadata": {},
   "source": [
    "Define noisy f as $\\tilde{f}_i \\sim \\mathcal{N}(f_i,\\sigma_n)$.\n",
    "\n",
    "Then $p(y_i=1|\\tilde{f}_i) = \\begin{cases} 1 & \\tilde{f}_i>0 \\\\ 0 & otherwise \\end{cases}$\n",
    "\n",
    "$p(y_i=1|\\tilde{f}_i) = \\int_0^{\\infty} \\frac{exp\\left(-\\frac{(\\tilde{f}_i-f_i)^2}{2\\sigma_n^2}\\right)}{\\sqrt{2\\pi}\\sigma_n}$\n",
    "\n",
    "define $t=\\frac{f-\\tilde{f}}{\\sigma_n}$\n",
    "\n",
    "Then equation can be written as $p(y_i=1|\\tilde{f}_i) = \\int_{-\\infty}^{f_i} \\frac{exp(-t^2/2)}{\\sqrt{2\\pi}}$\n",
    "\n",
    "which is same as prohibit likelihood"
   ]
  },
  {
   "cell_type": "markdown",
   "id": "5b9ef347",
   "metadata": {},
   "source": [
    "## 2. Covariance"
   ]
  },
  {
   "cell_type": "markdown",
   "id": "de52511f",
   "metadata": {},
   "source": [
    "- Show that $cov(\\mathbf{y}) = \\mathbb{E}[(\\mathbf{y}-\\mathbf{\\pi})^T(\\mathbf{y}-\\mathbf{\\pi})] = diag(\\mathbf{\\pi})-\\mathbf{\\pi}\\mathbf{\\pi}^T$\n",
    "\n",
    "    by definition $cov(\\mathbf{y}) = \\mathbb{E}[\\mathbf{y}\\mathbf{y}^T] - \\mathbf{\\pi}\\mathbf{\\pi}^T$\n",
    "\n",
    "    $y_c = \\delta_c argmax \\pi$ so expectation becomes\n",
    "\n",
    "    $\\mathbb{E}[\\mathbf{y}\\mathbf{y}^T] = \\sum_{c=1}^C e_c e_c^T \\pi_c$ - Eq 1\n",
    "\n",
    "    where $e_i \\in \\mathbb{R}^C, e.g., e_3=[0,0,1,0,\\cdots,0]$ \n",
    "\n",
    "    then the Eq 1 becomes $\\mathbb{E}[\\mathbf{y}\\mathbf{y}^T] = diag(\\mathbf{\\pi})$"
   ]
  },
  {
   "cell_type": "markdown",
   "id": "4418199d",
   "metadata": {},
   "source": [
    "- show that matrix $W = diag(\\mathbf{\\pi})-\\Pi\\Pi^T$ is semipositive definite\n",
    "    \n",
    "    for every element in $\\pi_c$, $\\pi_c-\\pi_c^2>0$ holds since defined as logits\n",
    "    \n",
    "    as a result all of the pivots becomes positive, and since W is symmetric matrix, it becomes positive definite\n",
    "    \n",
    "    given eigenvector of all ones eigenvalue becomes 0\n",
    "    \n",
    "    $diag(\\pi) [1 \\cdots 1]^T = \\mathbf{\\pi}, \\quad \\Pi\\Pi^T[1 \\cdots 1]^T = [\\pi_0(\\sum_c \\pi_c), \\pi_1(\\sum_c \\pi_c) \\cdots \\pi_C(\\sum_c \\pi_c)] = \\mathbf{\\pi} $\n",
    "    \n",
    "    as a result, $W[1 \\cdots 1]^T = 0 * [1 \\cdots 1]^T$"
   ]
  },
  {
   "cell_type": "markdown",
   "id": "f325e516",
   "metadata": {},
   "source": [
    "## 3. 3-Class softmax function"
   ]
  },
  {
   "cell_type": "markdown",
   "id": "2489b3a0",
   "metadata": {},
   "source": [
    "Given $\\mathbf{z} = \\begin{bmatrix} -1 & 1 & 0 \\\\ -1 & 0 & 1\\end{bmatrix} \\begin{bmatrix}f_1 \\\\ f_2 \\\\ f_3 \\end{bmatrix}$, $\\pi$ becomes \n",
    "\n",
    "$\\boldsymbol{\\pi}(\\mathbf{z}) = \\begin{bmatrix} \\frac{1}{1+exp(z_2)+exp(z_3)} \\\\ \\frac{exp(z_2)}{1+exp(z_2)+exp(z_3)} \\\\ \\frac{exp(z_3)}{1+exp(z_2)+exp(z_3)} \\end{bmatrix}$\n",
    "\n",
    "Then, $\\boldsymbol{\\bar{\\pi}} = \\int \\boldsymbol{\\pi}(\\mathbf{z})p(\\mathbf{z})d\\mathbf{z}$\n",
    "\n",
    "Since $p(\\mathbf{f})$ is gaussian, $p(\\mathbf{z})$ is also gaussian.\n",
    "\n",
    "Define $T = \\begin{bmatrix} -1 & 1 & 0 \\\\ -1 & 0 & 1\\end{bmatrix}$ Then the covariance becomes $cov(\\boldsymbol{z}) = Tcov(\\mathbf{f})T^T$\n",
    "\n",
    "Therefore, the intergral depends on mean and covariance of $\\mathbf{f}$."
   ]
  },
  {
   "cell_type": "markdown",
   "id": "2074e33e",
   "metadata": {},
   "source": [
    "## 4. Laplace Approximation"
   ]
  },
  {
   "cell_type": "markdown",
   "id": "37ea7a9f",
   "metadata": {},
   "source": [
    "if well explained : $t_i \\simeq \\pi_i ,  W_{ii} \\simeq 0$ \n",
    "\n",
    "for well explained $\\mathbf{f}_2$ and not $\\mathbf{f}_1$ the matrix becomes as follows\n",
    "\n",
    "$W = \\begin{bmatrix} W_{11} & 0 \\\\ 0 & 0 \\end{bmatrix}$ since W is diagonal\n",
    "\n",
    "$ \\mathbf{f} = \\begin{bmatrix} \\mathbf{f}_1 \\\\ \\mathbf{f}_2 \\end{bmatrix}$\n",
    "\n",
    "$ K = \\begin{bmatrix} K_{11} & K_{12} \\\\ K_{21} & K{22} \\end{bmatrix}$\n",
    "\n",
    "The Last term becomes $W\\mathbf{f}+\\nabla log p(\\mathbf{y}|\\mathbf{f}) = \\begin{bmatrix} W_{11}\\mathbf{f}_1 \\\\ 0 \\end{bmatrix}$ since $t_i \\simeq \\pi_i$ in logistics\n",
    "\n",
    "The second term $I+WK = \\begin{bmatrix} I_{11}+W_{11}K_{11} & W_{11}K_{12} \\\\ 0 & I_{22}\\end{bmatrix}$\n",
    "\n",
    "partioned matrix inverse equations is as follows\n",
    "\n",
    "$A = \\begin{bmatrix} P & Q \\\\ R & S \\end{bmatrix}$\n",
    "\n",
    "$A^{-1} = \\begin{bmatrix} P^{-1}+P{-1}QMRP^{-1} & -P^{-1}QM \\\\ -MRP^{-1} & M \\end{bmatrix}$\n",
    "\n",
    "where $M=(S-RP^{-1}Q)^{-1}$\n",
    "\n",
    "Then, $(I+WK)^{-1}$ becomes as follows\n",
    "\n",
    "$(I+WK)^{-1} = \\begin{bmatrix} (I_{11}+W_{11}K_{11})^{-1} & 0 \\\\ 0 & I_{22} \\end{bmatrix}$\n",
    "\n",
    "Multipling all of the terms, we can derive\n",
    "\n",
    "$\\begin{bmatrix} \\mathbf{f}_1^{new} \\\\ \\mathbf{f}_2^{new} \\end{bmatrix} = \\begin{bmatrix} K_{11}(I_{11}+W_{11}K_{11})^{-1}(W_{11}\\mathbf{f}_1 + \\nabla log \\ p(\\mathbf{y}_1 |\\mathbf{f}_1)) \\\\ K_{21}K_{11}^{-1} \\mathbf{f}_1^{new} \\end{bmatrix}$"
   ]
  },
  {
   "cell_type": "markdown",
   "id": "40a39d5d",
   "metadata": {},
   "source": [
    "## 5. Depedency of cavity distribution"
   ]
  },
  {
   "cell_type": "markdown",
   "id": "343e3008",
   "metadata": {},
   "source": [
    "Cavity distribution is defined as,\n",
    "\n",
    "$ q_{-i}(f_i) \\propto \\int p(\\mathbf{f}|X) \\prod_{i \\neq j}t_j(f_j|\\tilde{Z_j},\\tilde{\\mu_j},\\tilde{\\sigma}_j^2)$\n",
    "\n",
    "As $\\prod_{j=1}^n t_j(f_j|\\tilde{Z}_j,\\tilde{\\mu}_j,\\tilde{\\sigma}_j^2) = \\mathcal{N}(\\tilde{\\boldsymbol{\\mu}},\\tilde{\\Sigma})\\prod_j \\tilde{Z}_j $ and $\\tilde{\\Sigma}_j$ is diagonal with $\\tilde{\\Sigma}_{ii}=\\tilde{\\sigma_i}^2$. \n",
    "\n",
    "This means that each element of $t_i$ is independent\n",
    "\n",
    "By marginalizing,\n",
    "$q(\\mathbf{f}) \\propto \\int p(\\mathbf{f}|X)\\prod_{i=1}^nt_i(f_i|\\tilde{Z}_i,\\tilde{\\mu}_i,\\tilde{\\sigma}_i^2) d\\mathbf{f}= \\int p(\\mathbf{f}|X)\\prod_{j \\neq i}t_j(f_j|\\tilde{Z}_j,\\tilde{\\mu}_j,\\tilde{\\sigma}_j^2)df_{-i} \\ t_i(f_i|\\tilde{Z}_i,\\tilde{\\mu}_i,\\tilde{\\sigma}_i^2)df_i =q_{-i}(f_i)q(f_i) $\n",
    "\n",
    "From this, cavity mean covariance is not dependent on $\\tilde{\\mu_i}$ or $\\tilde{\\sigma_i}^2$ "
   ]
  },
  {
   "cell_type": "code",
   "execution_count": null,
   "id": "f49e5b96",
   "metadata": {},
   "outputs": [],
   "source": []
  }
 ],
 "metadata": {
  "kernelspec": {
   "display_name": "Python 3 (ipykernel)",
   "language": "python",
   "name": "python3"
  },
  "language_info": {
   "codemirror_mode": {
    "name": "ipython",
    "version": 3
   },
   "file_extension": ".py",
   "mimetype": "text/x-python",
   "name": "python",
   "nbconvert_exporter": "python",
   "pygments_lexer": "ipython3",
   "version": "3.8.8"
  }
 },
 "nbformat": 4,
 "nbformat_minor": 5
}
